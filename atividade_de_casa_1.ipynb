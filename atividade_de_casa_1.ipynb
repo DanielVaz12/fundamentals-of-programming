{
  "nbformat": 4,
  "nbformat_minor": 0,
  "metadata": {
    "colab": {
      "provenance": [],
      "include_colab_link": true
    },
    "kernelspec": {
      "name": "python3",
      "display_name": "Python 3"
    },
    "language_info": {
      "name": "python"
    }
  },
  "cells": [
    {
      "cell_type": "markdown",
      "metadata": {
        "id": "view-in-github",
        "colab_type": "text"
      },
      "source": [
        "<a href=\"https://colab.research.google.com/github/DanielVaz12/fundamentals-of-programming/blob/main/atividade_de_casa_1.ipynb\" target=\"_parent\"><img src=\"https://colab.research.google.com/assets/colab-badge.svg\" alt=\"Open In Colab\"/></a>"
      ]
    },
    {
      "cell_type": "markdown",
      "source": [
        "1) Elabore um código em que existe as variáveis : aluno, nota1, nota2,nota3, media. Neste código você deve escolher uma string para a variável aluno, float para cada nota. Pesquise o cálculo da média aritmética e aplique o resuldado do cálculo na variável media. Por fim, usando o comando print, mostre o nome do aluno ao lado de sua media. Use a função print para mostrar o tipo da variável aluno e tipo da variável media."
      ],
      "metadata": {
        "id": "hQZSWBJlsdAn"
      }
    },
    {
      "cell_type": "code",
      "source": [
        "#Resposta\n",
        "aluno = \"Daniel\"\n",
        "nota1 = 10\n",
        "nota2 = 9\n",
        "nota3 = 9\n",
        "media = (nota1 + nota2 + nota3)/3 \n",
        "#exibição da variável media\n",
        "print(media) \n",
        "#exibição do tipo da variavel aluno\n",
        "print(type(aluno))\n",
        "#exibição do tipo da variavel media\n",
        "print(type(media))"
      ],
      "metadata": {
        "id": "0oJOVsXEsqvW",
        "colab": {
          "base_uri": "https://localhost:8080/"
        },
        "outputId": "f35c3d40-1d94-4add-a264-e66520ba1144"
      },
      "execution_count": null,
      "outputs": [
        {
          "output_type": "stream",
          "name": "stdout",
          "text": [
            "9.333333333333334\n",
            "<class 'str'>\n",
            "<class 'float'>\n"
          ]
        }
      ]
    },
    {
      "cell_type": "markdown",
      "source": [
        "2) ELabore um código que realiza a concatenção de strings para formar um nome. Ao fim, exiba, através do comando print, o nome concatenado (nome_completo). "
      ],
      "metadata": {
        "id": "MQNGFrLrt59F"
      }
    },
    {
      "cell_type": "code",
      "source": [
        "#RESPOSTA\n",
        "nome = \"Daniel\"\n",
        "sobrenome = \" Vaz Barbosa\"\n",
        "nome_completo = nome + sobrenome\n",
        "#exibição do nome concatenado\n",
        "print(nome_completo)\n"
      ],
      "metadata": {
        "id": "agNgURZovQAO",
        "colab": {
          "base_uri": "https://localhost:8080/"
        },
        "outputId": "d9413033-78d5-4277-b741-f23579e07670"
      },
      "execution_count": null,
      "outputs": [
        {
          "output_type": "stream",
          "name": "stdout",
          "text": [
            "Daniel Vaz Barbosa\n"
          ]
        }
      ]
    },
    {
      "cell_type": "markdown",
      "source": [
        "3) Elabore um código em que seja criada uma lista de alimentos em forma de string. Nesta lista você deve escolher  10 alimentos.\n",
        "* a) realize o print do último alimento usando index negativo\n",
        "* b) realize o print do quarto elemento da lista\n",
        "* c) realize o print dos 5 primeiros elementos da lista\n",
        "* d) realize o print do 3 ultimos elementos da lista\n",
        "* e) realize o print do terceiro até o sétimo elemento da lista\n"
      ],
      "metadata": {
        "id": "Jvb8nt2-vkyk"
      }
    },
    {
      "cell_type": "code",
      "source": [
        "#Resposta\n",
        "lista_de_alimentos = [\"Arroz\",\"Feijão\",\"Macarrão\",\"Sal\",\"Açúcar\",\"Leite\",\"Manteiga\",\"Café\",\"Queijo\",\"Ovos\"]\n",
        "#item a\n",
        "print(lista_de_alimentos[-1])\n",
        "#item b\n",
        "print(lista_de_alimentos[3])\n",
        "#item c\n",
        "print(lista_de_alimentos[:5])\n",
        "#item d\n",
        "print(lista_de_alimentos[7:])\n",
        "#item e\n",
        "print(lista_de_alimentos[2:7])"
      ],
      "metadata": {
        "id": "Ej916hE4x3vr",
        "colab": {
          "base_uri": "https://localhost:8080/"
        },
        "outputId": "a3e4dba5-b7c9-4822-9f83-d1aede2c99f5"
      },
      "execution_count": null,
      "outputs": [
        {
          "output_type": "stream",
          "name": "stdout",
          "text": [
            "Ovos\n",
            "Sal\n",
            "['Arroz', 'Feijão', 'Macarrão', 'Sal', 'Açúcar']\n",
            "['Café', 'Queijo', 'Ovos']\n",
            "['Macarrão', 'Sal', 'Açúcar', 'Leite', 'Manteiga']\n"
          ]
        }
      ]
    },
    {
      "cell_type": "markdown",
      "source": [
        "4) Adapte a lista de alimentos criada na questão 3 para incluir o preço da cada alimento. Após cada string você deve incluir um valor numérico que representa o preço do alimento\n",
        "* a) Crie uma variavel `gasto_total` que recebe a soma de todos os preços, acessando a lista pelos indexes.\n",
        "* b) mostre via print o valor da variável `gasto_total`\n",
        "* c) crie uma nova lista chamada `alimentos_mais_caros` que contem os 3 alimentos mais caros. Nessa lista deve conter os alimentos com valor ao lado. a inclusão dos elementos na lista deve ser via index. Ex: `lista_nova = [lista_antiga[2],lista_antiga[3]...]`\n",
        "* d) mostre via print a lista `alimentos_mais_caros`"
      ],
      "metadata": {
        "id": "VBEp3lBnyQyt"
      }
    },
    {
      "cell_type": "code",
      "source": [
        "#resposta\n",
        "lista_de_alimentos_com_preco = [\"Arroz\", 7.0, \"Feijão\", 9.0, \"Macarrão\", 4.30, \"Sal\", 1.0, \"Açúcar\", 3.0, \"Leite\", 5.0, \"Manteiga\", 3.50, \"Café\", 6.0, \"Queijo\", 30.0,\"Ovos\", 19.0] \n",
        "#item a\n",
        "gasto_total = lista_de_alimentos_com_preco[1] + lista_de_alimentos_com_preco[3] + lista_de_alimentos_com_preco[5] + lista_de_alimentos_com_preco[7] + lista_de_alimentos_com_preco[9] + lista_de_alimentos_com_preco[11] + lista_de_alimentos_com_preco[13] + lista_de_alimentos_com_preco[15] + lista_de_alimentos_com_preco[17] + lista_de_alimentos_com_preco[19]\n",
        "#item b\n",
        "print(gasto_total)\n",
        "#item c\n",
        "alimentos_mais_caros = [lista_de_alimentos_com_preco[16], lista_de_alimentos_com_preco[17], lista_de_alimentos_com_preco[18], lista_de_alimentos_com_preco[19], lista_de_alimentos_com_preco[2], lista_de_alimentos_com_preco[3]]\n",
        "#item d\n",
        "print(alimentos_mais_caros)"
      ],
      "metadata": {
        "id": "UA1X8iq71Die",
        "colab": {
          "base_uri": "https://localhost:8080/"
        },
        "outputId": "77eb3c56-4d67-49a1-b803-263f31c95a65"
      },
      "execution_count": 21,
      "outputs": [
        {
          "output_type": "stream",
          "name": "stdout",
          "text": [
            "87.8\n",
            "['Queijo', 30.0, 'Ovos', 19.0, 'Feijão', 9.0]\n"
          ]
        }
      ]
    },
    {
      "cell_type": "markdown",
      "source": [
        "5) Adpate a lista de alimentos criada na questão 4. Agora a estrutura deve ser uma lista de listas. cada elemento com preço deve ser um lista, ou seja, a lista de alimentos deve conter 5 listas, em que cada lista possui um alimento e seu preço.\n",
        "* a) Crie uma variável `lista3` para ammazenar a terceiira lista contida na lista de alimentos. \n",
        "* b) Exiba a variável `lista3` \n",
        "* c) Crie uma variável `lista2a4` para armazenar da segunda até a quarta lista contida na lsita de alimentos.\n",
        "* d) Acessando os indexes da lista de alimentos no modo exemplo `lista[id1][id2]` realize os prints:\n",
        "** d1) do preço do terceiro alimento da lista\n",
        "** d2) do alimento da quarta lista\n",
        "** d3) do preço do quinto elemento da lista\n",
        "** d4) do alimento da primeira lista."
      ],
      "metadata": {
        "id": "nqp01e8g16FG"
      }
    },
    {
      "cell_type": "code",
      "source": [
        "#resposta\n",
        "lista_de_alimentos_adaptada = [[\"Arroz\", 7.0], [\"Feijão\", 9.0], [\"Macarrão\", 4.30], [\"Sal\", 1.0], [\"Açúcar\", 3.0], [\"Leite\", 5.0], [\"Manteiga\", 3.50], [\"Café\", 6.0], [\"Queijo\", 30.0], [\"Ovos\", 19.0]]\n",
        "#item a\n",
        "lista3 = lista_de_alimentos_adaptada[2]\n",
        "#item b\n",
        "print(lista3)\n",
        "#item c\n",
        "lista2a4 = lista_de_alimentos_adaptada[1:4]\n",
        "print(lista2a4)\n",
        "#item d1\n",
        "print(lista_de_alimentos_adaptada[2][0])\n",
        "#item d2\n",
        "print(lista_de_alimentos_adaptada[3][0])\n",
        "#item d3\n",
        "print(lista_de_alimentos_adaptada[4][1])\n",
        "#item d4\n",
        "print(lista_de_alimentos_adaptada[0][1]) "
      ],
      "metadata": {
        "id": "XTOqNZ1a4s-H",
        "colab": {
          "base_uri": "https://localhost:8080/"
        },
        "outputId": "e325231e-6df7-401e-a90d-c04875143303"
      },
      "execution_count": 26,
      "outputs": [
        {
          "output_type": "stream",
          "name": "stdout",
          "text": [
            "['Macarrão', 4.3]\n",
            "[['Feijão', 9.0], ['Macarrão', 4.3], ['Sal', 1.0]]\n",
            "Macarrão\n",
            "Sal\n",
            "3.0\n",
            "7.0\n"
          ]
        }
      ]
    }
  ]
}