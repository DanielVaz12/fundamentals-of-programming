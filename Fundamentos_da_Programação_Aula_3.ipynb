{
  "nbformat": 4,
  "nbformat_minor": 0,
  "metadata": {
    "colab": {
      "provenance": [],
      "authorship_tag": "ABX9TyOJAqZavsOWzZV+V599l1FU",
      "include_colab_link": true
    },
    "kernelspec": {
      "name": "python3",
      "display_name": "Python 3"
    },
    "language_info": {
      "name": "python"
    }
  },
  "cells": [
    {
      "cell_type": "markdown",
      "metadata": {
        "id": "view-in-github",
        "colab_type": "text"
      },
      "source": [
        "<a href=\"https://colab.research.google.com/github/DanielVaz12/fundamentals-of-programming/blob/main/Fundamentos_da_Programa%C3%A7%C3%A3o_Aula_3.ipynb\" target=\"_parent\"><img src=\"https://colab.research.google.com/assets/colab-badge.svg\" alt=\"Open In Colab\"/></a>"
      ]
    },
    {
      "cell_type": "code",
      "execution_count": null,
      "metadata": {
        "colab": {
          "base_uri": "https://localhost:8080/"
        },
        "id": "nEprylWh9hOG",
        "outputId": "23bf8047-ba82-4a36-aca6-dda83b0cf308"
      },
      "outputs": [
        {
          "output_type": "execute_result",
          "data": {
            "text/plain": [
              "[12, 43, 88, 102]"
            ]
          },
          "metadata": {},
          "execution_count": 4
        }
      ],
      "source": [
        "# python list\n",
        "fam = [12, 43, 88, 102]\n",
        "fam"
      ]
    },
    {
      "cell_type": "code",
      "source": [
        "# family\n",
        "fam = [\"Dad\",\"Mom\",\"Liz\",\"Ema\"]\n",
        "fam"
      ],
      "metadata": {
        "colab": {
          "base_uri": "https://localhost:8080/"
        },
        "id": "fAsMjw_99_pi",
        "outputId": "71029ff2-22cb-41e2-d66c-83c474c3589b"
      },
      "execution_count": null,
      "outputs": [
        {
          "output_type": "execute_result",
          "data": {
            "text/plain": [
              "['Dad', 'Mom', 'Liz', 'Ema']"
            ]
          },
          "metadata": {},
          "execution_count": 2
        }
      ]
    },
    {
      "cell_type": "code",
      "source": [
        "# family and age\n",
        "fam2 = [[\"Dad\", 1.89],\n",
        "        [\"Mom\", 1.71],\n",
        "        [\"Liz\", 1.73],\n",
        "        [\"Ema\", 1.68]]\n",
        "fam2"
      ],
      "metadata": {
        "colab": {
          "base_uri": "https://localhost:8080/"
        },
        "id": "oUuBgPFF-tvS",
        "outputId": "a2280bd8-0e0c-4a21-db58-159723ad5ad2"
      },
      "execution_count": null,
      "outputs": [
        {
          "output_type": "execute_result",
          "data": {
            "text/plain": [
              "[['Dad', 1.89], ['Mom', 1.71], ['Liz', 1.73], ['Ema', 1.68]]"
            ]
          },
          "metadata": {},
          "execution_count": 7
        }
      ]
    },
    {
      "cell_type": "code",
      "source": [
        "type(fam)\n"
      ],
      "metadata": {
        "colab": {
          "base_uri": "https://localhost:8080/"
        },
        "id": "f5Di8zow_ojK",
        "outputId": "59b6b02c-6792-4b73-c0ba-abf1caee2be7"
      },
      "execution_count": null,
      "outputs": [
        {
          "output_type": "execute_result",
          "data": {
            "text/plain": [
              "list"
            ]
          },
          "metadata": {},
          "execution_count": 12
        }
      ]
    },
    {
      "cell_type": "code",
      "source": [
        "type(fam2)"
      ],
      "metadata": {
        "colab": {
          "base_uri": "https://localhost:8080/"
        },
        "id": "J8vPqJMw_x_Y",
        "outputId": "a9d08c0f-d65a-47b1-98db-ac8d41c6bb31"
      },
      "execution_count": null,
      "outputs": [
        {
          "output_type": "execute_result",
          "data": {
            "text/plain": [
              "list"
            ]
          },
          "metadata": {},
          "execution_count": 15
        }
      ]
    },
    {
      "cell_type": "code",
      "source": [
        "# area variables (in square meters)\n",
        "hall = 14.00\n",
        "kit = 18.00\n",
        "liv = 20.00\n",
        "bed = 10.75\n",
        "bath = 9.50\n",
        "\n",
        "# create list areas\n",
        "areas = [hall, kit, liv, bed, bath]\n",
        "areas\n",
        "\n",
        "# print areas\n",
        "print(areas)\n"
      ],
      "metadata": {
        "colab": {
          "base_uri": "https://localhost:8080/"
        },
        "id": "VsQR-300BOJA",
        "outputId": "e434460e-d3e4-42b2-e6c1-f6a5ef080055"
      },
      "execution_count": null,
      "outputs": [
        {
          "output_type": "stream",
          "name": "stdout",
          "text": [
            "[14.0, 18.0, 20.0, 10.75, 9.5]\n"
          ]
        }
      ]
    },
    {
      "cell_type": "code",
      "source": [
        "# adapt list areas\n",
        "areas = [\"hall\", hall, \"kit\", kit, \"liv\", liv, \"bed\", bed, \"bath\", bath]\n",
        "\n",
        "# print areas\n",
        "print(areas)"
      ],
      "metadata": {
        "colab": {
          "base_uri": "https://localhost:8080/"
        },
        "id": "Gn4olBsJDm9Z",
        "outputId": "79239a99-3ab2-484c-c9e5-5ad6f14875cc"
      },
      "execution_count": null,
      "outputs": [
        {
          "output_type": "stream",
          "name": "stdout",
          "text": [
            "['hall', 14.0, 'kit', 18.0, 'liv', 20.0, 'bed', 10.75, 'bath', 9.5]\n"
          ]
        }
      ]
    },
    {
      "cell_type": "code",
      "source": [
        "listA = [1,3,4,2]\n",
        "# list with 4 integers numbers\n",
        "\n",
        "listB = [[1,2,3], [4,5,7]]\n",
        "# two lists within a list with integers inside each of them\n",
        "\n",
        "listC = [1+2, \"a\"*5, 3]\n",
        "# list with a sum of 1 + 2, str product of \"a\" with 5, and o an integer, 3\n",
        "\n",
        "print(listA)\n",
        "print(listB)\n",
        "print(listC)"
      ],
      "metadata": {
        "colab": {
          "base_uri": "https://localhost:8080/"
        },
        "id": "mK1CRmf_EYiP",
        "outputId": "d32da609-b4e5-4bc8-938d-cfff67488f8a"
      },
      "execution_count": null,
      "outputs": [
        {
          "output_type": "stream",
          "name": "stdout",
          "text": [
            "[1, 3, 4, 2]\n",
            "[[1, 2, 3], [4, 5, 7]]\n",
            "[3, 'aaaaa', 3]\n"
          ]
        }
      ]
    },
    {
      "cell_type": "code",
      "source": [
        "fam[2]"
      ],
      "metadata": {
        "colab": {
          "base_uri": "https://localhost:8080/",
          "height": 35
        },
        "id": "hKqH4-qvINvX",
        "outputId": "1ae1a606-b13c-44a9-9e5e-3d2ecfbdeaf4"
      },
      "execution_count": null,
      "outputs": [
        {
          "output_type": "execute_result",
          "data": {
            "text/plain": [
              "'Liz'"
            ],
            "application/vnd.google.colaboratory.intrinsic+json": {
              "type": "string"
            }
          },
          "metadata": {},
          "execution_count": 3
        }
      ]
    },
    {
      "cell_type": "code",
      "source": [
        "fam2[2]"
      ],
      "metadata": {
        "colab": {
          "base_uri": "https://localhost:8080/"
        },
        "id": "NMyMHmhiIX5Z",
        "outputId": "72ce35cb-24a4-44d6-f87f-36f5027df46d"
      },
      "execution_count": null,
      "outputs": [
        {
          "output_type": "execute_result",
          "data": {
            "text/plain": [
              "['Liz', 1.73]"
            ]
          },
          "metadata": {},
          "execution_count": 8
        }
      ]
    },
    {
      "cell_type": "code",
      "source": [
        "house[3]"
      ],
      "metadata": {
        "colab": {
          "base_uri": "https://localhost:8080/"
        },
        "id": "wbeFaC1PIbXo",
        "outputId": "a32146d8-1d23-48e5-d509-bd2466e1886e"
      },
      "execution_count": null,
      "outputs": [
        {
          "output_type": "execute_result",
          "data": {
            "text/plain": [
              "['bedroom', 10.75]"
            ]
          },
          "metadata": {},
          "execution_count": 41
        }
      ]
    },
    {
      "cell_type": "code",
      "source": [
        "# area variables (in square meters)\n",
        "hall = 11.25\n",
        "kit = 18.00\n",
        "liv = 20.00\n",
        "bed = 10.75\n",
        "bath = 9.50\n",
        "\n",
        "# house information as list of lists\n",
        "house = [[\"hallway\", hall],[\"kitchen\",kit], [\"livingroom\",liv], [\"bedroom\",bed], [\"bathroom\", bath]]\n",
        "house\n",
        "\n",
        "# print out house\n",
        "print(house)\n",
        "\n",
        "# print out the type of house\n",
        "print(type(house))"
      ],
      "metadata": {
        "colab": {
          "base_uri": "https://localhost:8080/"
        },
        "id": "e9fzH9T4Gunw",
        "outputId": "27c9c77b-e298-457d-ef9e-5ac6b8e6665f"
      },
      "execution_count": null,
      "outputs": [
        {
          "output_type": "stream",
          "name": "stdout",
          "text": [
            "[['hallway', 11.25], ['kitchen', 18.0], ['livingroom', 20.0], ['bedroom', 10.75], ['bathroom', 9.5]]\n",
            "<class 'list'>\n"
          ]
        }
      ]
    },
    {
      "cell_type": "code",
      "source": [
        "\n",
        "fam2[3:5]"
      ],
      "metadata": {
        "colab": {
          "base_uri": "https://localhost:8080/"
        },
        "id": "EMUYu_XoKD9W",
        "outputId": "d8ea9fee-6be1-41f8-8aa3-6a813125b7ed"
      },
      "execution_count": null,
      "outputs": [
        {
          "output_type": "execute_result",
          "data": {
            "text/plain": [
              "[['Ema', 1.68]]"
            ]
          },
          "metadata": {},
          "execution_count": 9
        }
      ]
    },
    {
      "cell_type": "code",
      "source": [
        "fam2[:4]"
      ],
      "metadata": {
        "colab": {
          "base_uri": "https://localhost:8080/"
        },
        "id": "DnQVKdN7K-qb",
        "outputId": "4b1ff8e3-87c7-4520-9e6a-5f5ae73dae6e"
      },
      "execution_count": null,
      "outputs": [
        {
          "output_type": "execute_result",
          "data": {
            "text/plain": [
              "[['Dad', 1.89], ['Mom', 1.71], ['Liz', 1.73], ['Ema', 1.68]]"
            ]
          },
          "metadata": {},
          "execution_count": 10
        }
      ]
    },
    {
      "cell_type": "code",
      "source": [
        "# create the areas list\n",
        "areas = [\"hallway\", 11.25, \"kitchen\", 18.0, \"living room\", 20.0, \"bedroom\", 10.75, \"bathroom\", 9.50]\n",
        "\n",
        "# print out second element from areas\n",
        "print(areas[1])\n",
        "\n",
        "# print out last element from areas\n",
        "print(areas[-1])\n",
        "\n",
        "# print out the area of the living room\n",
        "print(areas[5])"
      ],
      "metadata": {
        "colab": {
          "base_uri": "https://localhost:8080/"
        },
        "id": "vUTQFxboLbX3",
        "outputId": "a7adc7a8-0305-4d54-e19e-b0a4f8d83dce"
      },
      "execution_count": null,
      "outputs": [
        {
          "output_type": "stream",
          "name": "stdout",
          "text": [
            "11.25\n",
            "9.5\n",
            "20.0\n"
          ]
        }
      ]
    }
  ]
}