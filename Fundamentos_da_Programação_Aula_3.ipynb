{
  "nbformat": 4,
  "nbformat_minor": 0,
  "metadata": {
    "colab": {
      "provenance": [],
      "authorship_tag": "ABX9TyPQAzFQ+GqSXOdIu9hp0elV",
      "include_colab_link": true
    },
    "kernelspec": {
      "name": "python3",
      "display_name": "Python 3"
    },
    "language_info": {
      "name": "python"
    }
  },
  "cells": [
    {
      "cell_type": "markdown",
      "metadata": {
        "id": "view-in-github",
        "colab_type": "text"
      },
      "source": [
        "<a href=\"https://colab.research.google.com/github/DanielVaz12/fundamentals-of-programming/blob/main/Fundamentos_da_Programa%C3%A7%C3%A3o_Aula_3.ipynb\" target=\"_parent\"><img src=\"https://colab.research.google.com/assets/colab-badge.svg\" alt=\"Open In Colab\"/></a>"
      ]
    },
    {
      "cell_type": "code",
      "execution_count": null,
      "metadata": {
        "colab": {
          "base_uri": "https://localhost:8080/"
        },
        "id": "nEprylWh9hOG",
        "outputId": "23bf8047-ba82-4a36-aca6-dda83b0cf308"
      },
      "outputs": [
        {
          "output_type": "execute_result",
          "data": {
            "text/plain": [
              "[12, 43, 88, 102]"
            ]
          },
          "metadata": {},
          "execution_count": 4
        }
      ],
      "source": [
        "# python list\n",
        "fam = [12, 43, 88, 102]\n",
        "fam"
      ]
    },
    {
      "cell_type": "code",
      "source": [
        "# family\n",
        "fam = [\"Socorro\",\"Damião\",\"Daniel\",\"Denise\"]\n",
        "fam"
      ],
      "metadata": {
        "colab": {
          "base_uri": "https://localhost:8080/"
        },
        "id": "fAsMjw_99_pi",
        "outputId": "f0c629a2-08f9-4d44-d279-48e43a0b5d2f"
      },
      "execution_count": null,
      "outputs": [
        {
          "output_type": "execute_result",
          "data": {
            "text/plain": [
              "['Socorro', 'Damião', 'Daniel', 'Denise']"
            ]
          },
          "metadata": {},
          "execution_count": 14
        }
      ]
    },
    {
      "cell_type": "code",
      "source": [
        "# family and age\n",
        "fam2 = [[\"Socorro\", 55],\n",
        "        [\"Damião\", 45],\n",
        "        [\"Daniel\", 18],\n",
        "        [\"Denise\", 16]]\n",
        "fam2"
      ],
      "metadata": {
        "colab": {
          "base_uri": "https://localhost:8080/"
        },
        "id": "oUuBgPFF-tvS",
        "outputId": "724cb9f0-3867-424a-82ea-6469badc9c35"
      },
      "execution_count": null,
      "outputs": [
        {
          "output_type": "execute_result",
          "data": {
            "text/plain": [
              "[['Socorro', 55], ['Damião', 45], ['Daniel', 18], ['Denise', 16]]"
            ]
          },
          "metadata": {},
          "execution_count": 17
        }
      ]
    },
    {
      "cell_type": "code",
      "source": [
        "type(fam)\n"
      ],
      "metadata": {
        "colab": {
          "base_uri": "https://localhost:8080/"
        },
        "id": "f5Di8zow_ojK",
        "outputId": "59b6b02c-6792-4b73-c0ba-abf1caee2be7"
      },
      "execution_count": null,
      "outputs": [
        {
          "output_type": "execute_result",
          "data": {
            "text/plain": [
              "list"
            ]
          },
          "metadata": {},
          "execution_count": 12
        }
      ]
    },
    {
      "cell_type": "code",
      "source": [
        "type(fam2)"
      ],
      "metadata": {
        "colab": {
          "base_uri": "https://localhost:8080/"
        },
        "id": "J8vPqJMw_x_Y",
        "outputId": "a9d08c0f-d65a-47b1-98db-ac8d41c6bb31"
      },
      "execution_count": null,
      "outputs": [
        {
          "output_type": "execute_result",
          "data": {
            "text/plain": [
              "list"
            ]
          },
          "metadata": {},
          "execution_count": 15
        }
      ]
    },
    {
      "cell_type": "code",
      "source": [
        "# area variables (in square meters)\n",
        "hall = 14.00\n",
        "kit = 18.00\n",
        "liv = 20.00\n",
        "bed = 10.75\n",
        "bath = 9.50\n",
        "\n",
        "# create list areas\n",
        "areas = [hall, kit, liv, bed, bath]\n",
        "areas\n",
        "\n",
        "# print areas\n",
        "print(areas)\n"
      ],
      "metadata": {
        "colab": {
          "base_uri": "https://localhost:8080/"
        },
        "id": "VsQR-300BOJA",
        "outputId": "e434460e-d3e4-42b2-e6c1-f6a5ef080055"
      },
      "execution_count": null,
      "outputs": [
        {
          "output_type": "stream",
          "name": "stdout",
          "text": [
            "[14.0, 18.0, 20.0, 10.75, 9.5]\n"
          ]
        }
      ]
    },
    {
      "cell_type": "code",
      "source": [
        "# adapt list areas\n",
        "areas = [\"hall\", hall, \"kit\", kit, \"liv\", liv, \"bed\", bed, \"bath\", bath]\n",
        "\n",
        "# print areas\n",
        "print(areas)"
      ],
      "metadata": {
        "colab": {
          "base_uri": "https://localhost:8080/"
        },
        "id": "Gn4olBsJDm9Z",
        "outputId": "79239a99-3ab2-484c-c9e5-5ad6f14875cc"
      },
      "execution_count": null,
      "outputs": [
        {
          "output_type": "stream",
          "name": "stdout",
          "text": [
            "['hall', 14.0, 'kit', 18.0, 'liv', 20.0, 'bed', 10.75, 'bath', 9.5]\n"
          ]
        }
      ]
    },
    {
      "cell_type": "code",
      "source": [
        "listA = [1,3,4,2]\n",
        "# list with 4 integers numbers\n",
        "\n",
        "listB = [[1,2,3], [4,5,7]]\n",
        "# two lists within a list with integers inside each of them\n",
        "\n",
        "listC = [1+2, \"a\"*5, 3]\n",
        "# list with a sum of 1 + 2, str product of \"a\" with 5, and o an integer, 3\n",
        "\n",
        "print(listA)\n",
        "print(listB)\n",
        "print(listC)"
      ],
      "metadata": {
        "colab": {
          "base_uri": "https://localhost:8080/"
        },
        "id": "mK1CRmf_EYiP",
        "outputId": "d32da609-b4e5-4bc8-938d-cfff67488f8a"
      },
      "execution_count": null,
      "outputs": [
        {
          "output_type": "stream",
          "name": "stdout",
          "text": [
            "[1, 3, 4, 2]\n",
            "[[1, 2, 3], [4, 5, 7]]\n",
            "[3, 'aaaaa', 3]\n"
          ]
        }
      ]
    },
    {
      "cell_type": "code",
      "source": [
        "fam[2]"
      ],
      "metadata": {
        "colab": {
          "base_uri": "https://localhost:8080/",
          "height": 35
        },
        "id": "hKqH4-qvINvX",
        "outputId": "1a12fa73-523d-4480-d8e5-b8d53017b2dd"
      },
      "execution_count": null,
      "outputs": [
        {
          "output_type": "execute_result",
          "data": {
            "text/plain": [
              "'Daniel'"
            ],
            "application/vnd.google.colaboratory.intrinsic+json": {
              "type": "string"
            }
          },
          "metadata": {},
          "execution_count": 38
        }
      ]
    },
    {
      "cell_type": "code",
      "source": [
        "fam2[2]"
      ],
      "metadata": {
        "colab": {
          "base_uri": "https://localhost:8080/"
        },
        "id": "NMyMHmhiIX5Z",
        "outputId": "4cdd4e72-c00b-4fe4-c2ef-f12b9a20cbc5"
      },
      "execution_count": null,
      "outputs": [
        {
          "output_type": "execute_result",
          "data": {
            "text/plain": [
              "['Daniel', 18]"
            ]
          },
          "metadata": {},
          "execution_count": 39
        }
      ]
    },
    {
      "cell_type": "code",
      "source": [
        "house[3]"
      ],
      "metadata": {
        "colab": {
          "base_uri": "https://localhost:8080/"
        },
        "id": "wbeFaC1PIbXo",
        "outputId": "a32146d8-1d23-48e5-d509-bd2466e1886e"
      },
      "execution_count": null,
      "outputs": [
        {
          "output_type": "execute_result",
          "data": {
            "text/plain": [
              "['bedroom', 10.75]"
            ]
          },
          "metadata": {},
          "execution_count": 41
        }
      ]
    },
    {
      "cell_type": "code",
      "source": [
        "# area variables (in square meters)\n",
        "hall = 11.25\n",
        "kit = 18.00\n",
        "liv = 20.00\n",
        "bed = 10.75\n",
        "bath = 9.50\n",
        "\n",
        "# house information as list of lists\n",
        "house = [[\"hallway\", hall],[\"kitchen\",kit], [\"livingroom\",liv], [\"bedroom\",bed], [\"bathroom\", bath]]\n",
        "house\n",
        "\n",
        "# print out house\n",
        "print(house)\n",
        "\n",
        "# print out the type of house\n",
        "print(type(house))"
      ],
      "metadata": {
        "colab": {
          "base_uri": "https://localhost:8080/"
        },
        "id": "e9fzH9T4Gunw",
        "outputId": "27c9c77b-e298-457d-ef9e-5ac6b8e6665f"
      },
      "execution_count": null,
      "outputs": [
        {
          "output_type": "stream",
          "name": "stdout",
          "text": [
            "[['hallway', 11.25], ['kitchen', 18.0], ['livingroom', 20.0], ['bedroom', 10.75], ['bathroom', 9.5]]\n",
            "<class 'list'>\n"
          ]
        }
      ]
    },
    {
      "cell_type": "code",
      "source": [
        "fam3 = ['liz', 1.73, 'ema', 1.68, 'mom', 1.71, 'dad', 1.89]\n",
        "fam3\n",
        "\n",
        "fam3[3:5]"
      ],
      "metadata": {
        "colab": {
          "base_uri": "https://localhost:8080/"
        },
        "id": "EMUYu_XoKD9W",
        "outputId": "8d613078-dc32-41ce-e16c-7e1052a7fe05"
      },
      "execution_count": null,
      "outputs": [
        {
          "output_type": "execute_result",
          "data": {
            "text/plain": [
              "[1.68, 'mom']"
            ]
          },
          "metadata": {},
          "execution_count": 51
        }
      ]
    },
    {
      "cell_type": "code",
      "source": [
        "fam3[:4]"
      ],
      "metadata": {
        "colab": {
          "base_uri": "https://localhost:8080/"
        },
        "id": "DnQVKdN7K-qb",
        "outputId": "7cbceb30-9aa1-4d4f-934d-6f3d754a6fd8"
      },
      "execution_count": null,
      "outputs": [
        {
          "output_type": "execute_result",
          "data": {
            "text/plain": [
              "['liz', 1.73, 'ema', 1.68]"
            ]
          },
          "metadata": {},
          "execution_count": 52
        }
      ]
    },
    {
      "cell_type": "code",
      "source": [
        "fam3[5:]"
      ],
      "metadata": {
        "colab": {
          "base_uri": "https://localhost:8080/"
        },
        "id": "K3qW9Ev7LFUt",
        "outputId": "d437f7de-637c-4bad-b770-23cc007b5d1c"
      },
      "execution_count": null,
      "outputs": [
        {
          "output_type": "execute_result",
          "data": {
            "text/plain": [
              "[1.71, 'dad', 1.89]"
            ]
          },
          "metadata": {},
          "execution_count": 53
        }
      ]
    },
    {
      "cell_type": "code",
      "source": [
        "# create the areas list\n",
        "areas = [\"hallway\", 11.25, \"kitchen\", 18.0, \"living room\", 20.0, \"bedroom\", 10.75, \"bathroom\", 9.50]\n",
        "\n",
        "# print out second element from areas\n",
        "print(areas[1])\n",
        "\n",
        "# print out last element from areas\n",
        "print(areas[-1])\n",
        "\n",
        "# print out the area of the living room\n",
        "print(areas[5])"
      ],
      "metadata": {
        "colab": {
          "base_uri": "https://localhost:8080/"
        },
        "id": "vUTQFxboLbX3",
        "outputId": "a7adc7a8-0305-4d54-e19e-b0a4f8d83dce"
      },
      "execution_count": null,
      "outputs": [
        {
          "output_type": "stream",
          "name": "stdout",
          "text": [
            "11.25\n",
            "9.5\n",
            "20.0\n"
          ]
        }
      ]
    }
  ]
}