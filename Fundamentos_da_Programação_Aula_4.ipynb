{
  "nbformat": 4,
  "nbformat_minor": 0,
  "metadata": {
    "colab": {
      "provenance": [],
      "authorship_tag": "ABX9TyPa2/drnIJL6IInkFTNZtQU",
      "include_colab_link": true
    },
    "kernelspec": {
      "name": "python3",
      "display_name": "Python 3"
    },
    "language_info": {
      "name": "python"
    }
  },
  "cells": [
    {
      "cell_type": "markdown",
      "metadata": {
        "id": "view-in-github",
        "colab_type": "text"
      },
      "source": [
        "<a href=\"https://colab.research.google.com/github/DanielVaz12/fundamentals-of-programming/blob/main/Fundamentos_da_Programa%C3%A7%C3%A3o_Aula_4.ipynb\" target=\"_parent\"><img src=\"https://colab.research.google.com/assets/colab-badge.svg\" alt=\"Open In Colab\"/></a>"
      ]
    },
    {
      "cell_type": "code",
      "execution_count": null,
      "metadata": {
        "colab": {
          "base_uri": "https://localhost:8080/"
        },
        "id": "c-zaemDtt4B5",
        "outputId": "cb91f8f4-2ff2-45fc-9582-c34589192f4a"
      },
      "outputs": [
        {
          "output_type": "stream",
          "name": "stdout",
          "text": [
            "28.75\n"
          ]
        }
      ],
      "source": [
        "# create the areas list\n",
        "areas = [\"hallway\", 11.25, \"kitchen\", 18.0, \"living room\", 20.0, \"bedroom\", 10.75, \"bathroom\", 9.50]\n",
        "\n",
        "# sum of kitchen and bedroom area: eat_sleep_area\n",
        "eat_sleep_area = areas[3]+areas[7]\n",
        "\n",
        "# print the variable eat_sleep_area\n",
        "print(eat_sleep_area)"
      ]
    },
    {
      "cell_type": "code",
      "source": [
        "# create the areas list\n",
        "areas = [\"hallway\", 11.25, \"kitchen\", 18.0, \"living room\", 20.0, \"bedroom\", 10.75, \"bathroom\", 9.50]\n",
        "\n",
        "# use slicing to create downstairs\n",
        "downstairs = areas[:6]\n",
        "\n",
        "# use slicing to create upstairs\n",
        "upstairs = areas[6:]\n",
        "\n",
        "# print out downstairs and upstairs\n",
        "print(downstairs)\n",
        "print(upstairs)"
      ],
      "metadata": {
        "colab": {
          "base_uri": "https://localhost:8080/"
        },
        "id": "utWwpptDwDk2",
        "outputId": "2a40673f-a277-4842-e739-1ec257aa8a33"
      },
      "execution_count": null,
      "outputs": [
        {
          "output_type": "stream",
          "name": "stdout",
          "text": [
            "['hallway', 11.25, 'kitchen', 18.0, 'living room', 20.0]\n",
            "['bedroom', 10.75, 'bathroom', 9.5]\n"
          ]
        }
      ]
    },
    {
      "cell_type": "code",
      "source": [
        "x = [[\"a\",\"b\",\"c\"],[\"d\",\"e\",\"f\"],[\"g\",\"h\",\"i\"]]\n",
        "\n",
        "x[2][0]\n",
        "x[2][:2]"
      ],
      "metadata": {
        "colab": {
          "base_uri": "https://localhost:8080/"
        },
        "id": "twvnvqeyxWB2",
        "outputId": "2674ab21-af7e-4397-d614-6d785b17da3a"
      },
      "execution_count": null,
      "outputs": [
        {
          "output_type": "execute_result",
          "data": {
            "text/plain": [
              "['g', 'h']"
            ]
          },
          "metadata": {},
          "execution_count": 11
        }
      ]
    },
    {
      "cell_type": "code",
      "source": [
        "# what will be returned if you display house[-1][1] from the complete list you implemented in lecture 3?\n",
        "hall = 11.25\n",
        "kit = 18.00\n",
        "liv = 20.00\n",
        "bed = 10.75\n",
        "bath = 9.50\n",
        "\n",
        "house = [[\"hallway\", hall],[\"kitchen\",kit], [\"livingroom\",liv], [\"bedroom\",bed], [\"bathroom\", bath]]\n",
        "house\n",
        "\n",
        "house[-1][1]"
      ],
      "metadata": {
        "colab": {
          "base_uri": "https://localhost:8080/"
        },
        "id": "pJTgXH-syYTC",
        "outputId": "5bd37bff-eb28-42a1-c973-3163a6c933bf"
      },
      "execution_count": null,
      "outputs": [
        {
          "output_type": "execute_result",
          "data": {
            "text/plain": [
              "9.5"
            ]
          },
          "metadata": {},
          "execution_count": 12
        }
      ]
    },
    {
      "cell_type": "code",
      "source": [
        "# manipulating lists\n",
        "fam = [\"Dad\", 1.89,\"Mom\", 1.71,\"Liz\", 1.73,\"Ema\", 1.68]\n",
        "fam\n",
        "\n",
        "fam[7] = 1.63\n",
        "fam\n",
        "\n",
        "fam[4:6] = [\"lisa\", 1.75]\n",
        "fam"
      ],
      "metadata": {
        "colab": {
          "base_uri": "https://localhost:8080/"
        },
        "id": "CANnrZ770UMW",
        "outputId": "9feee6dd-336e-4598-f747-6be2aa1cd772"
      },
      "execution_count": null,
      "outputs": [
        {
          "output_type": "execute_result",
          "data": {
            "text/plain": [
              "['Dad', 1.89, 'Mom', 1.71, 'lisa', 1.75, 'Ema', 1.63]"
            ]
          },
          "metadata": {},
          "execution_count": 43
        }
      ]
    },
    {
      "cell_type": "code",
      "source": [
        "fam + [\"me\", 1.79]"
      ],
      "metadata": {
        "colab": {
          "base_uri": "https://localhost:8080/"
        },
        "id": "6OlKMBcz2W3N",
        "outputId": "92f70959-0ba0-4496-c458-00575cab16db"
      },
      "execution_count": null,
      "outputs": [
        {
          "output_type": "execute_result",
          "data": {
            "text/plain": [
              "['Dad', 1.89, 'Mom', 1.71, 'lisa', 1.75, 'Ema', 1.63, 'me', 1.79]"
            ]
          },
          "metadata": {},
          "execution_count": 44
        }
      ]
    },
    {
      "cell_type": "code",
      "source": [
        "fam_ext = fam + [\"me\", 1.79]\n",
        "del(fam[2])\n",
        "fam"
      ],
      "metadata": {
        "colab": {
          "base_uri": "https://localhost:8080/"
        },
        "id": "_7CEcPvh4TYj",
        "outputId": "107bab3e-78dd-42c1-cc79-7a0834c55efa"
      },
      "execution_count": null,
      "outputs": [
        {
          "output_type": "execute_result",
          "data": {
            "text/plain": [
              "['Dad', 1.89, 1.71, 'lisa', 1.75, 'Ema', 1.63]"
            ]
          },
          "metadata": {},
          "execution_count": 46
        }
      ]
    },
    {
      "cell_type": "code",
      "source": [
        "x = [\"a\",\"b\",\"c\"]\n",
        "y = x\n",
        "y[1] = \"z\"\n",
        "y"
      ],
      "metadata": {
        "colab": {
          "base_uri": "https://localhost:8080/"
        },
        "id": "9-6RQnlm5Wi9",
        "outputId": "cd856e29-cff4-4f91-8fcf-4123621d6a28"
      },
      "execution_count": null,
      "outputs": [
        {
          "output_type": "execute_result",
          "data": {
            "text/plain": [
              "['a', 'z', 'c']"
            ]
          },
          "metadata": {},
          "execution_count": 37
        }
      ]
    },
    {
      "cell_type": "code",
      "source": [
        "x"
      ],
      "metadata": {
        "colab": {
          "base_uri": "https://localhost:8080/"
        },
        "id": "14hTO_l-5lNi",
        "outputId": "b2ca16d3-f452-4d09-fcad-40d9a7cd8712"
      },
      "execution_count": null,
      "outputs": [
        {
          "output_type": "execute_result",
          "data": {
            "text/plain": [
              "['a', 'z', 'c']"
            ]
          },
          "metadata": {},
          "execution_count": 38
        }
      ]
    },
    {
      "cell_type": "code",
      "source": [
        "x = [\"a\",\"b\",\"c\"]\n",
        "y = list(x)\n",
        "y = x[:]\n",
        "y[1] = \"z\"\n",
        "x"
      ],
      "metadata": {
        "colab": {
          "base_uri": "https://localhost:8080/"
        },
        "id": "65PrJ5SC6F4z",
        "outputId": "6fdcc042-375b-43c6-d835-8fad1dd32c60"
      },
      "execution_count": null,
      "outputs": [
        {
          "output_type": "execute_result",
          "data": {
            "text/plain": [
              "['a', 'b', 'c']"
            ]
          },
          "metadata": {},
          "execution_count": 45
        }
      ]
    },
    {
      "cell_type": "code",
      "source": [
        "# create the areas list\n",
        "areas = [\"hallway\", 11.25, \"kitchen\", 18.0, \"living room\", 20.0, \"bedroom\", 10.75, \"bathroom\", 9.50]\n",
        "\n",
        "# correct the bathroom area\n",
        "areas[9] = 10.50\n",
        "\n",
        "# change \"living room\" to \"chill zone\"\n",
        "areas[4] = \"chill zone\"\n",
        "\n",
        "print(areas)"
      ],
      "metadata": {
        "colab": {
          "base_uri": "https://localhost:8080/"
        },
        "id": "ZB7_8IHT7HzS",
        "outputId": "296160c0-33dd-4475-f788-40eabde19d66"
      },
      "execution_count": null,
      "outputs": [
        {
          "output_type": "stream",
          "name": "stdout",
          "text": [
            "['hallway', 11.25, 'kitchen', 18.0, 'chill zone', 20.0, 'bedroom', 10.75, 'bathroom', 10.5]\n"
          ]
        }
      ]
    }
  ]
}