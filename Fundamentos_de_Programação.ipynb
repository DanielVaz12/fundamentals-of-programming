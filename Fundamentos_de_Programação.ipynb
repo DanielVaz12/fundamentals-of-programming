{
  "nbformat": 4,
  "nbformat_minor": 0,
  "metadata": {
    "colab": {
      "provenance": [],
      "authorship_tag": "ABX9TyPK/qqt3Z8nesJbSMn6Wf2c",
      "include_colab_link": true
    },
    "kernelspec": {
      "name": "python3",
      "display_name": "Python 3"
    },
    "language_info": {
      "name": "python"
    }
  },
  "cells": [
    {
      "cell_type": "markdown",
      "metadata": {
        "id": "view-in-github",
        "colab_type": "text"
      },
      "source": [
        "<a href=\"https://colab.research.google.com/github/DanielVaz12/fundamentals-of-programming/blob/main/Fundamentos_de_Programa%C3%A7%C3%A3o.ipynb\" target=\"_parent\"><img src=\"https://colab.research.google.com/assets/colab-badge.svg\" alt=\"Open In Colab\"/></a>"
      ]
    },
    {
      "cell_type": "code",
      "source": [
        "# example 1\n",
        "print(5/8)"
      ],
      "metadata": {
        "colab": {
          "base_uri": "https://localhost:8080/"
        },
        "id": "U5YXr8TniatA",
        "outputId": "72d15746-9d3b-4534-82e4-68f0e07c93d1"
      },
      "execution_count": null,
      "outputs": [
        {
          "output_type": "stream",
          "name": "stdout",
          "text": [
            "0.625\n"
          ]
        }
      ]
    },
    {
      "cell_type": "code",
      "source": [
        "# example 2\n",
        "print(7 + 8)"
      ],
      "metadata": {
        "colab": {
          "base_uri": "https://localhost:8080/"
        },
        "id": "XY70pxaWir-N",
        "outputId": "00d078ba-8b86-48ee-bcbd-c6529274a466"
      },
      "execution_count": null,
      "outputs": [
        {
          "output_type": "stream",
          "name": "stdout",
          "text": [
            "15\n"
          ]
        }
      ]
    },
    {
      "cell_type": "code",
      "source": [
        "# addition\n",
        "print(5 + 3)\n",
        "\n",
        "# subtraction\n",
        "print(5-3)"
      ],
      "metadata": {
        "colab": {
          "base_uri": "https://localhost:8080/"
        },
        "id": "OmOuMArki2E9",
        "outputId": "51784d65-781f-44ff-d1e4-dba5c16d66de"
      },
      "execution_count": null,
      "outputs": [
        {
          "output_type": "stream",
          "name": "stdout",
          "text": [
            "8\n",
            "2\n"
          ]
        }
      ]
    },
    {
      "cell_type": "code",
      "source": [
        "# potentiation\n",
        "print(5**3)\n",
        "\n",
        "# multiplication\n",
        "print(5*3)\n",
        "\n",
        "# rest of division\n",
        "print(5%3)"
      ],
      "metadata": {
        "colab": {
          "base_uri": "https://localhost:8080/"
        },
        "id": "CHpmhA2QjRtE",
        "outputId": "1a2fa669-c51d-4a87-eb68-5e5f78ee524f"
      },
      "execution_count": null,
      "outputs": [
        {
          "output_type": "stream",
          "name": "stdout",
          "text": [
            "125\n",
            "15\n",
            "2\n"
          ]
        }
      ]
    },
    {
      "cell_type": "code",
      "execution_count": null,
      "metadata": {
        "colab": {
          "base_uri": "https://localhost:8080/"
        },
        "id": "LM-tQlOypnKX",
        "outputId": "f7ccec5d-70bb-4537-ae97-ba8cd2a7662d"
      },
      "outputs": [
        {
          "output_type": "execute_result",
          "data": {
            "text/plain": [
              "19487171.0"
            ]
          },
          "metadata": {},
          "execution_count": 1
        }
      ],
      "source": [
        "# suppose you have 100 dollars and that money earns 1.1% per year. How much money will you have accumulated in 7 years?\n",
        "gain = (100 *11/100)**7\n",
        "gain"
      ]
    },
    {
      "cell_type": "code",
      "source": [
        "# complete the following code\n",
        "savings = 100\n",
        "growth_multiplier = 1.1\n",
        "desc = \"compound interest\"\n",
        "\n",
        "# assign product of growth_multiplier and savings to year1\n",
        "year1 = savings * growth_multiplier\n",
        "\n",
        "# print the type of year1\n",
        "print(type(year1))\n",
        "\n",
        "# assign sum of desc and desc to doubledesc\n",
        "doubledesc = desc + desc\n",
        "\n",
        "# print out doubledesc\n",
        "print(doubledesc)"
      ],
      "metadata": {
        "colab": {
          "base_uri": "https://localhost:8080/"
        },
        "id": "RN0DVE8Jv0d-",
        "outputId": "1660e77c-f3ca-4bf8-f32f-ebc63a0a15e9"
      },
      "execution_count": null,
      "outputs": [
        {
          "output_type": "stream",
          "name": "stdout",
          "text": [
            "<class 'float'>\n",
            "compound interestcompound interest\n"
          ]
        }
      ]
    },
    {
      "cell_type": "code",
      "source": [
        "# definition of pi_string\n",
        "pi_string = \"3.1415926\"\n",
        "\n",
        "# convert pi_string into float: pi_float\n",
        "pi_float = float(pi_string)\n",
        "print(type(pi_float))\n",
        "print(type(pi_string))"
      ],
      "metadata": {
        "colab": {
          "base_uri": "https://localhost:8080/"
        },
        "id": "NuLm-3rSw5Av",
        "outputId": "cbd6efdf-b64e-4079-9b5e-1b5487153277"
      },
      "execution_count": null,
      "outputs": [
        {
          "output_type": "stream",
          "name": "stdout",
          "text": [
            "<class 'float'>\n",
            "<class 'str'>\n"
          ]
        }
      ]
    },
    {
      "cell_type": "code",
      "source": [
        "# definition of savings and result\n",
        "savings = 100\n",
        "result = 100 *1.10**7\n",
        "\n",
        "# fix the printout\n",
        "print(\"I started with $\" +savings+ \"and now have $\" +result+\"Awesome!\")"
      ],
      "metadata": {
        "colab": {
          "base_uri": "https://localhost:8080/",
          "height": 200
        },
        "id": "jXU6N1Rayp9u",
        "outputId": "b3209ce2-f2c5-41b1-fb34-6f390ace1f96"
      },
      "execution_count": null,
      "outputs": [
        {
          "output_type": "error",
          "ename": "TypeError",
          "evalue": "ignored",
          "traceback": [
            "\u001b[0;31m---------------------------------------------------------------------------\u001b[0m",
            "\u001b[0;31mTypeError\u001b[0m                                 Traceback (most recent call last)",
            "\u001b[0;32m<ipython-input-15-4e5b66f50b14>\u001b[0m in \u001b[0;36m<module>\u001b[0;34m\u001b[0m\n\u001b[1;32m      1\u001b[0m \u001b[0msavings\u001b[0m \u001b[0;34m=\u001b[0m \u001b[0;36m100\u001b[0m\u001b[0;34m\u001b[0m\u001b[0;34m\u001b[0m\u001b[0m\n\u001b[1;32m      2\u001b[0m \u001b[0mresult\u001b[0m \u001b[0;34m=\u001b[0m \u001b[0;36m100\u001b[0m \u001b[0;34m*\u001b[0m\u001b[0;36m1.10\u001b[0m\u001b[0;34m**\u001b[0m\u001b[0;36m7\u001b[0m\u001b[0;34m\u001b[0m\u001b[0;34m\u001b[0m\u001b[0m\n\u001b[0;32m----> 3\u001b[0;31m \u001b[0mprint\u001b[0m\u001b[0;34m(\u001b[0m\u001b[0;34m\"I started with $\"\u001b[0m \u001b[0;34m+\u001b[0m\u001b[0msavings\u001b[0m\u001b[0;34m+\u001b[0m \u001b[0;34m\"and now have $\"\u001b[0m \u001b[0;34m+\u001b[0m\u001b[0mresult\u001b[0m\u001b[0;34m+\u001b[0m\u001b[0;34m\"Awesome!\"\u001b[0m\u001b[0;34m)\u001b[0m\u001b[0;34m\u001b[0m\u001b[0;34m\u001b[0m\u001b[0m\n\u001b[0m",
            "\u001b[0;31mTypeError\u001b[0m: can only concatenate str (not \"int\") to str"
          ]
        }
      ]
    },
    {
      "cell_type": "code",
      "source": [
        "# correction\n",
        "savings = 100\n",
        "result = 100 *1.10**7\n",
        "print(\"I started with $\" +str(savings)+ \" and now have $\" +str(result)+ \", awesome!\")"
      ],
      "metadata": {
        "colab": {
          "base_uri": "https://localhost:8080/"
        },
        "outputId": "af7e4839-129c-43ab-bb00-d371f0d3947d",
        "id": "HCFxXpN8zuyB"
      },
      "execution_count": null,
      "outputs": [
        {
          "output_type": "stream",
          "name": "stdout",
          "text": [
            "I started with $100 and now have $194.87171000000012, awesome!\n"
          ]
        }
      ]
    }
  ]
}