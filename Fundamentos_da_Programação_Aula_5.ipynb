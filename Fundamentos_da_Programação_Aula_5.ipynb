{
  "nbformat": 4,
  "nbformat_minor": 0,
  "metadata": {
    "colab": {
      "provenance": [],
      "authorship_tag": "ABX9TyMswnZ2qiU6XkJsbs6IF2WD",
      "include_colab_link": true
    },
    "kernelspec": {
      "name": "python3",
      "display_name": "Python 3"
    },
    "language_info": {
      "name": "python"
    }
  },
  "cells": [
    {
      "cell_type": "markdown",
      "metadata": {
        "id": "view-in-github",
        "colab_type": "text"
      },
      "source": [
        "<a href=\"https://colab.research.google.com/github/DanielVaz12/fundamentals-of-programming/blob/main/Fundamentos_da_Programa%C3%A7%C3%A3o_Aula_5.ipynb\" target=\"_parent\"><img src=\"https://colab.research.google.com/assets/colab-badge.svg\" alt=\"Open In Colab\"/></a>"
      ]
    },
    {
      "cell_type": "code",
      "execution_count": 1,
      "metadata": {
        "colab": {
          "base_uri": "https://localhost:8080/"
        },
        "id": "WHnBb4wSGhlJ",
        "outputId": "732a9fb5-f54c-42c3-c4c9-4af53ca5fe07"
      },
      "outputs": [
        {
          "output_type": "execute_result",
          "data": {
            "text/plain": [
              "[1.73, 1.68, 1.71, 1.89]"
            ]
          },
          "metadata": {},
          "execution_count": 1
        }
      ],
      "source": [
        "fam = [1.73, 1.68, 1.71, 1.89]\n",
        "fam"
      ]
    },
    {
      "cell_type": "code",
      "source": [
        "max(fam)"
      ],
      "metadata": {
        "colab": {
          "base_uri": "https://localhost:8080/"
        },
        "id": "oiKrqIM2G0XT",
        "outputId": "9e646237-21e1-41ad-e728-8b50d14a1210"
      },
      "execution_count": 2,
      "outputs": [
        {
          "output_type": "execute_result",
          "data": {
            "text/plain": [
              "1.89"
            ]
          },
          "metadata": {},
          "execution_count": 2
        }
      ]
    },
    {
      "cell_type": "code",
      "source": [
        "round(1.68, 1)"
      ],
      "metadata": {
        "colab": {
          "base_uri": "https://localhost:8080/"
        },
        "id": "KcOVJB4qHS3p",
        "outputId": "e4d7be9b-986b-4f98-bc6b-bcada6b25363"
      },
      "execution_count": 9,
      "outputs": [
        {
          "output_type": "execute_result",
          "data": {
            "text/plain": [
              "1.7"
            ]
          },
          "metadata": {},
          "execution_count": 9
        }
      ]
    },
    {
      "cell_type": "code",
      "source": [
        "round(1.68)"
      ],
      "metadata": {
        "colab": {
          "base_uri": "https://localhost:8080/"
        },
        "id": "SdMyL4X2Hpkh",
        "outputId": "24a026ce-dbdf-4f35-9563-c14dbae981a4"
      },
      "execution_count": 10,
      "outputs": [
        {
          "output_type": "execute_result",
          "data": {
            "text/plain": [
              "2"
            ]
          },
          "metadata": {},
          "execution_count": 10
        }
      ]
    },
    {
      "cell_type": "code",
      "source": [
        "help(round) #open up documentation"
      ],
      "metadata": {
        "colab": {
          "base_uri": "https://localhost:8080/"
        },
        "id": "qfQYsBuWHrJI",
        "outputId": "5118b5a8-2be3-493b-ca5d-83076e36306e"
      },
      "execution_count": 13,
      "outputs": [
        {
          "output_type": "stream",
          "name": "stdout",
          "text": [
            "Help on built-in function round in module builtins:\n",
            "\n",
            "round(number, ndigits=None)\n",
            "    Round a number to a given precision in decimal digits.\n",
            "    \n",
            "    The return value is an integer if ndigits is omitted or None.  Otherwise\n",
            "    the return value has the same type as the number.  ndigits may be negative.\n",
            "\n"
          ]
        }
      ]
    },
    {
      "cell_type": "code",
      "source": [
        "# create variables var1 and var2\n",
        "var1 = [1, 2, 3, 4]\n",
        "var2 = True\n",
        "\n",
        "# print out type of var1\n",
        "print(type(var1))\n",
        "\n",
        "# print out length of var1\n",
        "print(len(var1))\n",
        "\n",
        "# convert var 2 to an integer: out2 \n",
        "out2 = int(var2)\n",
        "print(out2)"
      ],
      "metadata": {
        "colab": {
          "base_uri": "https://localhost:8080/"
        },
        "id": "qJna2FabH-xo",
        "outputId": "d4b16819-b8e5-414f-acd3-94b237d711ef"
      },
      "execution_count": 18,
      "outputs": [
        {
          "output_type": "stream",
          "name": "stdout",
          "text": [
            "<class 'list'>\n",
            "4\n",
            "1\n"
          ]
        }
      ]
    },
    {
      "cell_type": "code",
      "source": [
        "# create lists first and second\n",
        "first = [11.25, 18.0, 20.0]\n",
        "second = [10.75, 9.50]\n",
        "\n",
        "# paste together first and second: full\n",
        "full = first + second\n",
        "print(full)\n",
        "\n",
        "# sort full in descending order: full_sorted\n",
        "full_sorted = sorted(full, reverse = True)\n",
        "\n",
        "# print full_sorted\n",
        "print(full_sorted)"
      ],
      "metadata": {
        "colab": {
          "base_uri": "https://localhost:8080/"
        },
        "id": "6eaDeV_gJ004",
        "outputId": "472a296b-0d34-4360-c6af-e427b8ab4e53"
      },
      "execution_count": 26,
      "outputs": [
        {
          "output_type": "stream",
          "name": "stdout",
          "text": [
            "[11.25, 18.0, 20.0, 10.75, 9.5]\n",
            "[20.0, 18.0, 11.25, 10.75, 9.5]\n"
          ]
        }
      ]
    },
    {
      "cell_type": "code",
      "source": [
        "fam = [\"liz\", 1.73, \"emma\", 1.73, \"mom\", 1.79, \"dad\", 1.89]\n",
        "fam"
      ],
      "metadata": {
        "colab": {
          "base_uri": "https://localhost:8080/"
        },
        "id": "6DaNlu7pMWLe",
        "outputId": "b36651f4-64ff-48d3-8abd-32ed47a1b0a9"
      },
      "execution_count": 39,
      "outputs": [
        {
          "output_type": "execute_result",
          "data": {
            "text/plain": [
              "['liz', 1.73, 'emma', 1.73, 'mom', 1.79, 'dad', 1.89]"
            ]
          },
          "metadata": {},
          "execution_count": 39
        }
      ]
    },
    {
      "cell_type": "code",
      "source": [
        "fam.index(\"emma\")"
      ],
      "metadata": {
        "colab": {
          "base_uri": "https://localhost:8080/"
        },
        "id": "2nhrKFLiOI5r",
        "outputId": "1391a48c-ef4c-43e2-b42a-113de64a516a"
      },
      "execution_count": 40,
      "outputs": [
        {
          "output_type": "execute_result",
          "data": {
            "text/plain": [
              "2"
            ]
          },
          "metadata": {},
          "execution_count": 40
        }
      ]
    },
    {
      "cell_type": "code",
      "source": [
        "fam.index(1.79)"
      ],
      "metadata": {
        "colab": {
          "base_uri": "https://localhost:8080/"
        },
        "id": "nMd1UhFSOnE7",
        "outputId": "bc2ee085-0e2e-4155-de98-5571214f3889"
      },
      "execution_count": 41,
      "outputs": [
        {
          "output_type": "execute_result",
          "data": {
            "text/plain": [
              "5"
            ]
          },
          "metadata": {},
          "execution_count": 41
        }
      ]
    },
    {
      "cell_type": "code",
      "source": [
        "fam.count(1.73)"
      ],
      "metadata": {
        "colab": {
          "base_uri": "https://localhost:8080/"
        },
        "id": "oRvyBW8SOFW8",
        "outputId": "6543d963-1db3-4928-b855-cbe5f48d8d02"
      },
      "execution_count": 36,
      "outputs": [
        {
          "output_type": "execute_result",
          "data": {
            "text/plain": [
              "2"
            ]
          },
          "metadata": {},
          "execution_count": 36
        }
      ]
    },
    {
      "cell_type": "code",
      "source": [
        "fam = [\"liz\", 1.73, \"emma\", 1.73, \"mom\", 1.79, \"dad\", 1.89]\n",
        "fam"
      ],
      "metadata": {
        "colab": {
          "base_uri": "https://localhost:8080/"
        },
        "id": "g5FnvEjAPXbD",
        "outputId": "b5e542e9-663e-4f20-d6dd-7d83d1add202"
      },
      "execution_count": 53,
      "outputs": [
        {
          "output_type": "execute_result",
          "data": {
            "text/plain": [
              "['liz', 1.73, 'emma', 1.73, 'mom', 1.79, 'dad', 1.89]"
            ]
          },
          "metadata": {},
          "execution_count": 53
        }
      ]
    },
    {
      "cell_type": "code",
      "source": [
        "fam.append(\"me\")\n",
        "fam"
      ],
      "metadata": {
        "colab": {
          "base_uri": "https://localhost:8080/"
        },
        "id": "_Hhb4I87P4kx",
        "outputId": "805a6b8d-0a6e-4784-abd2-f2fc18e95430"
      },
      "execution_count": 54,
      "outputs": [
        {
          "output_type": "execute_result",
          "data": {
            "text/plain": [
              "['liz', 1.73, 'emma', 1.73, 'mom', 1.79, 'dad', 1.89, 'me']"
            ]
          },
          "metadata": {},
          "execution_count": 54
        }
      ]
    },
    {
      "cell_type": "code",
      "source": [
        "sister = \"liz\""
      ],
      "metadata": {
        "id": "hfXoKOw5P_Ni"
      },
      "execution_count": 56,
      "outputs": []
    },
    {
      "cell_type": "code",
      "source": [
        "sister.capitalize()"
      ],
      "metadata": {
        "colab": {
          "base_uri": "https://localhost:8080/",
          "height": 35
        },
        "id": "yq10olxnQVG6",
        "outputId": "94f736fc-c770-4722-b28a-72e1cc1d42c0"
      },
      "execution_count": 57,
      "outputs": [
        {
          "output_type": "execute_result",
          "data": {
            "text/plain": [
              "'Liz'"
            ],
            "application/vnd.google.colaboratory.intrinsic+json": {
              "type": "string"
            }
          },
          "metadata": {},
          "execution_count": 57
        }
      ]
    },
    {
      "cell_type": "code",
      "source": [
        "sister.replace(\"z\", \"sa\")"
      ],
      "metadata": {
        "colab": {
          "base_uri": "https://localhost:8080/",
          "height": 35
        },
        "id": "mdNgFqDgQYn6",
        "outputId": "19288d16-d63c-46a5-a6a2-e2845c90c4a2"
      },
      "execution_count": 58,
      "outputs": [
        {
          "output_type": "execute_result",
          "data": {
            "text/plain": [
              "'lisa'"
            ],
            "application/vnd.google.colaboratory.intrinsic+json": {
              "type": "string"
            }
          },
          "metadata": {},
          "execution_count": 58
        }
      ]
    },
    {
      "cell_type": "code",
      "source": [
        "# string to experiment with: place\n",
        "place = \"poolhouse\"\n",
        "\n",
        "# use upper() on place: place_up\n",
        "place_up = place.upper()\n",
        "\n",
        "# print out place and place_up\n",
        "print(place)\n",
        "print(place_up)\n",
        "\n",
        "# print out the number of o's in place\n",
        "place.count(\"o\")"
      ],
      "metadata": {
        "colab": {
          "base_uri": "https://localhost:8080/"
        },
        "id": "ksYv-UzZRW6h",
        "outputId": "f6a29424-4749-4036-b615-043febaf5893"
      },
      "execution_count": 65,
      "outputs": [
        {
          "output_type": "stream",
          "name": "stdout",
          "text": [
            "poolhouse\n",
            "POOLHOUSE\n"
          ]
        },
        {
          "output_type": "execute_result",
          "data": {
            "text/plain": [
              "3"
            ]
          },
          "metadata": {},
          "execution_count": 65
        }
      ]
    }
  ]
}